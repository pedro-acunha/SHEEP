{
 "cells": [
  {
   "cell_type": "code",
   "execution_count": null,
   "id": "7c81c522",
   "metadata": {},
   "outputs": [],
   "source": [
    "!pip install catboost\n",
    "!pip install lightgbm"
   ]
  },
  {
   "cell_type": "code",
   "execution_count": null,
   "id": "acaeb3dc",
   "metadata": {},
   "outputs": [],
   "source": [
    "!nvidia-smi"
   ]
  },
  {
   "cell_type": "code",
   "execution_count": null,
   "id": "5be6cfcf",
   "metadata": {},
   "outputs": [],
   "source": [
    "from sklearn.metrics import r2_score,accuracy_score, confusion_matrix, classification_report,precision_recall_fscore_support\n",
    "import numpy as np\n",
    "import pandas as pd\n",
    "import sklearn\n",
    "import dask_ml.model_selection as dcv\n",
    "\n",
    "import xgboost as xgb\n",
    "import lightgbm as lgb\n",
    "from catboost import CatBoostRegressor, Pool, EShapCalcType, EFeaturesSelectionAlgorithm, CatBoostClassifier\n",
    "\n",
    "from sklearn.model_selection import RepeatedKFold\n",
    "from cuml.model_selection import train_test_split\n",
    "from sklearn.model_selection import train_test_split as skl_train_test_split\n",
    "from sklearn.preprocessing import RobustScaler\n",
    "\n",
    "from cuml import preprocessing\n",
    "import cuml\n",
    "\n",
    "from cuml.ensemble import RandomForestClassifier as cuRFC\n",
    "from cuml.neighbors import KNeighborsRegressor\n",
    "from cuml.ensemble import RandomForestRegressor as curfc\n",
    "\n",
    "\n",
    "cuml.set_global_output_type('numpy')\n",
    "import cudf\n",
    "import numpy as np\n",
    "from joblib import dump, load\n",
    "import warnings\n",
    "warnings.filterwarnings('ignore')\n",
    "\n",
    "import cupy\n",
    "import matplotlib.pyplot as plt\n",
    "from matplotlib import pyplot\n",
    "plt.rcParams[\"figure.figsize\"] = (20,20)\n"
   ]
  },
  {
   "cell_type": "code",
   "execution_count": null,
   "id": "a9b532e7",
   "metadata": {},
   "outputs": [],
   "source": [
    "# Read CSV from DR15 SDSS\n",
    "df_train = pd.read_csv('./Data/SDSS_DR15_new_PCunha.csv')\n",
    "list_features = ['psfMag_u', 'psfMag_g','psfMag_r','psfMag_i','psfMag_z','cModelMag_r','w1mpro','w2mpro','w3mpro','w4mpro','class','z_photo','z_spec']\n",
    "df_train = df_train[list_features]\n",
    "\n",
    "print('Data selected from CSV file.\\n')\n",
    "\n",
    "# Add resolved_r feature to simulate Clarke et al features\n",
    "df_train['resolved_r']=df_train['psfMag_r']-df_train['cModelMag_r']\n",
    "\n",
    "# Class convertion into 0, 1, 2\n",
    "le = sklearn.preprocessing.LabelEncoder()\n",
    "df_train['class'] = le.fit_transform(df_train['class'])\n",
    "print('Labels [0,1,2]: ',le.inverse_transform([0,1,2]))\n",
    "print('Data encoded.\\n')"
   ]
  },
  {
   "cell_type": "code",
   "execution_count": null,
   "id": "74be7ec7",
   "metadata": {},
   "outputs": [],
   "source": [
    "def create_colours(data, features):\n",
    "    \"\"\"Create dataframe with colour-colour data. Return an Array and list of colours.\n",
    "\n",
    "    Args:\n",
    "        data (DataFrame): Dataframe with photometric data\n",
    "        features (list): List of features from photometric data\n",
    "    \"\"\"\n",
    "    N = len(data)\n",
    "    F = len(features)\n",
    "    n=0\n",
    "    for i in np.linspace(1,len(features),len(features),dtype=int):\n",
    "    \tn = n + (i-1)\n",
    "\n",
    "    df_features = np.zeros((N, n))\n",
    "    y=0\n",
    "    lista=[]\n",
    "    for z in np.linspace(0,F,F,dtype=int):\n",
    "    \tfor x in np.linspace(1,F-1,F-1,dtype=int):\n",
    "        \tif z!=x and z<x:\n",
    "        \t\tdf_features[:,y] = data[features[z]] - data[features[x]]\n",
    "        \t\ty+=1\n",
    "        \t\tlista += [features[z]+'-'+features[x]]\n",
    "        \telse:\n",
    "           \t\tpass\n",
    "    df_colours = pd.DataFrame(df_features,columns = lista)\n",
    "    return df_colours\n",
    "\n",
    "def create_ratio(data, features):\n",
    "    \"\"\"Create dataframe with features ratio data. Return an Array and list of ratios.\n",
    "\n",
    "    Args:\n",
    "        data (DataFrame): Dataframe with photometric data\n",
    "        features (list): List of features from photometric data\n",
    "    \"\"\"\n",
    "    N = len(data)\n",
    "    F = len(features)\n",
    "    n=0\n",
    "    for i in np.linspace(1,len(features),len(features),dtype=int):\n",
    "    \tn = n + (i-1)\n",
    "\n",
    "    df_features = np.zeros((N, n))\n",
    "    y=0\n",
    "    lista=[]\n",
    "    for z in np.linspace(0,F,F,dtype=int):\n",
    "    \tfor x in np.linspace(1,F-1,F-1,dtype=int):\n",
    "        \tif z!=x and z<x:\n",
    "        \t\tdf_features[:,y] = data[features[z]] / data[features[x]]\n",
    "        \t\ty+=1\n",
    "        \t\tlista += [features[z]+'/'+features[x]]\n",
    "        \telse:\n",
    "           \t\tpass\n",
    "    df_colours = pd.DataFrame(df_features,columns = lista)\n",
    "    return df_colours\n",
    "\n",
    "list_col = ['psfMag_u', 'psfMag_g','psfMag_r','psfMag_i','psfMag_z','w1mpro','w2mpro','w3mpro','w4mpro']\n",
    "df_colours = create_colours(df_train,list_col)\n",
    "#df_ratio = create_ratio(df_train,list_col)\n",
    "\n",
    "# Add flag_photo_z\n",
    "flag_photo_z_train = pd.read_csv('./flag_train_z_photo.csv')\n",
    "flag_photo_z_train.columns=['index','label_photo_z']\n",
    "flag_photo_z_train.set_index('index', inplace=True)\n",
    "\n",
    "flag_photo_z_test = pd.read_csv('./flag_test_z_photo.csv')\n",
    "flag_photo_z_test.columns=['index','label_photo_z']\n",
    "flag_photo_z_test.set_index('index', inplace=True)\n",
    "\n",
    "flag_photo = pd.concat([flag_photo_z_train,flag_photo_z_test],axis=0)\n",
    "flag_photo.sort_index(inplace=True)\n",
    "\n",
    "# Add predicted z_spec\n",
    "z_spec = pd.read_csv('./oof_z_spec_pred.csv')\n",
    "z_spec.columns=['index','pred_z_spec']\n",
    "z_spec.set_index('index', inplace=True)\n",
    "\n",
    "\n",
    "#Concat dataframes\n",
    "\n",
    "df = pd.concat([df_train,df_colours.reindex(df_train.index)], axis=1, sort=False)\n",
    "#df = pd.concat([df,df_ratio.reindex(df.index)], axis=1, sort=False)\n",
    "df = pd.merge(df,flag_photo, left_index=True, right_index=True)\n",
    "df = pd.merge(df,z_spec, left_index=True, right_index=True)\n",
    "\n",
    "features = df.columns.values.tolist()\n",
    "features.remove('class')\n",
    "features.remove('cModelMag_r')\n",
    "features.remove('z_photo')\n",
    "features.remove('z_spec')\n",
    "features.remove('pred_z_spec')\n",
    "features.remove('label_photo_z')\n",
    "\n",
    "\n",
    "targets= ['class']"
   ]
  },
  {
   "cell_type": "code",
   "execution_count": null,
   "id": "4b7330d2",
   "metadata": {},
   "outputs": [],
   "source": [
    "def metric_scores(x,y):\n",
    "    print(\"Classification Report RF: \\n\", classification_report(x, y, digits=5))\n",
    "    print(\"Confusion Matrix: \\n\", confusion_matrix(x, y))\n",
    "\n",
    "    \n",
    "import seaborn as sns\n",
    "def plot_feature_importance(importance,names,model_type):\n",
    "    \n",
    "    #Create arrays from feature importance and feature names\n",
    "    feature_importance = np.array(importance)\n",
    "    feature_names = np.array(names)\n",
    "    \n",
    "    #Create a DataFrame using a Dictionary\n",
    "    data={'feature_names':feature_names,'feature_importance':feature_importance}\n",
    "    fi_df = pd.DataFrame(data)\n",
    "    \n",
    "    #Sort the DataFrame in order decreasing feature importance\n",
    "    fi_df.sort_values(by=['feature_importance'], ascending=False,inplace=True)\n",
    "    \n",
    "    #Define size of bar plot\n",
    "    plt.figure(figsize=(10,8))\n",
    "    #Plot Searborn bar chart\n",
    "    sns.barplot(x=fi_df['feature_importance'], y=fi_df['feature_names'])\n",
    "    #Add chart labels\n",
    "    plt.title(model_type + ' Feature Importance')\n",
    "    plt.xlabel('Feature Importance')\n",
    "    plt.ylabel('Feature Names')"
   ]
  },
  {
   "cell_type": "code",
   "execution_count": null,
   "id": "cbdb2c9e",
   "metadata": {},
   "outputs": [],
   "source": [
    "#df[features] = RobustScaler().fit_transform(df[features])"
   ]
  },
  {
   "cell_type": "code",
   "execution_count": null,
   "id": "4c25bb9d",
   "metadata": {},
   "outputs": [],
   "source": [
    "# Train Test Split for GPU based algorithms\n",
    "df_cudf = cudf.from_pandas(df)\n",
    "X_train, X_test, y_train, y_test = train_test_split(df_cudf[features], \n",
    "                                                    df_cudf[targets], \n",
    "                                                    test_size=0.3, \n",
    "                                                    shuffle =True, \n",
    "                                                    random_state=0)"
   ]
  },
  {
   "cell_type": "code",
   "execution_count": null,
   "id": "70df1c40",
   "metadata": {},
   "outputs": [],
   "source": [
    "clf_test = y_test.to_pandas().astype(np.float32)"
   ]
  },
  {
   "cell_type": "markdown",
   "id": "f18c148c",
   "metadata": {},
   "source": [
    "# Classification using photometric data\n"
   ]
  },
  {
   "cell_type": "markdown",
   "id": "66f794a3",
   "metadata": {},
   "source": [
    "## KNN implementation\n"
   ]
  },
  {
   "cell_type": "code",
   "execution_count": null,
   "id": "a7ff5c9d",
   "metadata": {},
   "outputs": [],
   "source": [
    "n_neighbors = 20\n",
    "\n",
    "knn_clf = cuml.neighbors.KNeighborsClassifier(n_neighbors=n_neighbors)\n",
    "\n",
    "knn_clf.fit(X_train.astype(np.float32), y_train['class'].astype(np.float32))\n",
    "\n",
    "knn_pred = knn_clf.predict(X_test.astype(np.float32))\n",
    "\n",
    "metric_scores(clf_test,knn_pred)"
   ]
  },
  {
   "cell_type": "markdown",
   "id": "af9f838d",
   "metadata": {},
   "source": [
    "## Random Forest implementation\n"
   ]
  },
  {
   "cell_type": "code",
   "execution_count": null,
   "id": "271be596",
   "metadata": {},
   "outputs": [],
   "source": [
    "n_estimators = 500\n",
    "max_depth = 10\n",
    "#r_state = list(np.random.choice(99,size=40, replace=False))\n",
    "\n",
    "#print('List Random State: ', r_state)\n",
    "\n",
    "model = cuRFC(n_estimators = n_estimators,n_streams=1, random_state = 24,split_algo = 0)\n",
    "\n",
    "model.fit(X_train.astype(np.float32),y_train['class'].astype(np.int32), convert_dtype=True)\n",
    "\n",
    "rf_pred = model.predict(X_test.astype(np.float32))\n",
    "\n",
    "metric_scores(clf_test,rf_pred)"
   ]
  },
  {
   "cell_type": "markdown",
   "id": "2abf0177",
   "metadata": {},
   "source": [
    "## LightGBM Implementation\n"
   ]
  },
  {
   "cell_type": "code",
   "execution_count": null,
   "id": "7884e18e",
   "metadata": {},
   "outputs": [],
   "source": [
    "lgb_clf = lgb.LGBMClassifier(n_estimators = 500,objective='multiclass',seed= 42)\n",
    "lgb_clf.fit(X_train.to_pandas().astype(np.float32), y_train['class'].to_pandas().astype(np.int32))\n",
    "\n",
    "lgb_pred = lgb_clf.predict(X_test.to_pandas().astype(np.float32))\n",
    "\n",
    "metric_scores(clf_test,lgb_pred)"
   ]
  },
  {
   "cell_type": "markdown",
   "id": "1b09d9ed",
   "metadata": {},
   "source": [
    "##  XGBoost Implementation\n"
   ]
  },
  {
   "cell_type": "code",
   "execution_count": null,
   "id": "c3d6fe53",
   "metadata": {},
   "outputs": [],
   "source": [
    "xgb_clf = xgb.XGBClassifier(n_estimators=500,n_jobs=-1, max_depth=14,\n",
    "use_label_encoder=False,objective = 'multi:softprob',\n",
    " eval_metric = 'mlogloss',tree_method='gpu_hist', \n",
    " predictor='gpu_predictor', random_state=24)\n",
    "\n",
    "xgb_clf.fit(X_train.to_pandas().astype(np.float32), y_train['class'].to_pandas().astype(np.int32))\n",
    "\n",
    "xgb_pred = xgb_clf.predict(X_test.to_pandas().astype(np.float32))\n",
    "\n",
    "metric_scores(clf_test,xgb_pred)"
   ]
  },
  {
   "cell_type": "markdown",
   "id": "e7123be3",
   "metadata": {},
   "source": [
    "# CatBoost Implementation"
   ]
  },
  {
   "cell_type": "code",
   "execution_count": null,
   "id": "bb005bd0",
   "metadata": {},
   "outputs": [],
   "source": [
    "train_pool = Pool(X_train.to_pandas(), y_train.to_pandas(), feature_names=features)\n",
    "test_pool = Pool(X_test.to_pandas(), y_test.to_pandas(), feature_names=features)"
   ]
  },
  {
   "cell_type": "code",
   "execution_count": null,
   "id": "a63e6cbc",
   "metadata": {},
   "outputs": [],
   "source": [
    "cb_clf = CatBoostClassifier(n_estimators = 500,max_depth=10,task_type=\"GPU\", random_state= 42, verbose=0)\n",
    "cb_clf.fit(train_pool)\n",
    "\n",
    "cb_pred = cb_clf.predict(X_test.to_pandas().astype(np.float32))\n",
    "\n",
    "metric_scores(clf_test,cb_pred)"
   ]
  },
  {
   "cell_type": "code",
   "execution_count": null,
   "id": "daf74263",
   "metadata": {
    "scrolled": false
   },
   "outputs": [],
   "source": [
    "plot_feature_importance(cb_clf.get_feature_importance(),features,'CatBoost')"
   ]
  },
  {
   "cell_type": "code",
   "execution_count": null,
   "id": "26844b33",
   "metadata": {},
   "outputs": [],
   "source": [
    "cb_clf = CatBoostClassifier(n_estimators = 500,task_type=\"GPU\", random_state= 42, verbose=0)\n",
    "\n",
    "# Feature Selection\n",
    "summary = cb_clf.select_features(\n",
    "    train_pool,\n",
    "    eval_set=test_pool,\n",
    "    features_for_select='0-47',\n",
    "    num_features_to_select=20,\n",
    "    steps=28,\n",
    "    algorithm=EFeaturesSelectionAlgorithm.RecursiveByShapValues,\n",
    "    shap_calc_type=EShapCalcType.Regular,\n",
    "    train_final_model=False,\n",
    "    logging_level='Silent',\n",
    "    plot=True\n",
    ")"
   ]
  },
  {
   "cell_type": "markdown",
   "id": "1360b509",
   "metadata": {},
   "source": [
    "# Classification using photometric data and predicted z"
   ]
  },
  {
   "cell_type": "code",
   "execution_count": null,
   "id": "5e0cd627",
   "metadata": {},
   "outputs": [],
   "source": [
    "features = df.columns.values.tolist()\n",
    "features.remove('class')\n",
    "features.remove('cModelMag_r')\n",
    "features.remove('z_photo')\n",
    "features.remove('z_spec')\n",
    "features.remove('label_photo_z')\n",
    "\n",
    "X_train, X_test, y_train, y_test = train_test_split(df_cudf[features], \n",
    "                                                    df_cudf[targets], \n",
    "                                                    test_size=0.3, \n",
    "                                                    shuffle =True, \n",
    "                                                    random_state=0)\n",
    "\n",
    "clf_test = y_test.to_pandas().astype(np.float32)"
   ]
  },
  {
   "cell_type": "markdown",
   "id": "e4f01dd9",
   "metadata": {},
   "source": [
    "## KNN"
   ]
  },
  {
   "cell_type": "code",
   "execution_count": null,
   "id": "2c2cce71",
   "metadata": {},
   "outputs": [],
   "source": [
    "n_neighbors = 20\n",
    "\n",
    "knn_clf = cuml.neighbors.KNeighborsClassifier(n_neighbors=n_neighbors)\n",
    "\n",
    "knn_clf.fit(X_train.astype(np.float32), y_train['class'].astype(np.float32))\n",
    "\n",
    "knn_pred = knn_clf.predict(X_test.astype(np.float32))\n",
    "\n",
    "metric_scores(clf_test,knn_pred)"
   ]
  },
  {
   "cell_type": "markdown",
   "id": "047eea57",
   "metadata": {},
   "source": [
    "# RF"
   ]
  },
  {
   "cell_type": "code",
   "execution_count": null,
   "id": "c9c57245",
   "metadata": {},
   "outputs": [],
   "source": [
    "n_estimators = 500\n",
    "max_depth = 10\n",
    "#r_state = list(np.random.choice(99,size=40, replace=False))\n",
    "\n",
    "#print('List Random State: ', r_state)\n",
    "\n",
    "model = cuRFC(n_estimators = n_estimators,n_streams=1, random_state = 24,split_algo = 0)\n",
    "\n",
    "model.fit(X_train.astype(np.float32),y_train['class'].astype(np.int32), convert_dtype=True)\n",
    "\n",
    "rf_pred = model.predict(X_test.astype(np.float32))\n",
    "\n",
    "metric_scores(clf_test,rf_pred)"
   ]
  },
  {
   "cell_type": "markdown",
   "id": "a6f828ad",
   "metadata": {},
   "source": [
    "# LightGBM"
   ]
  },
  {
   "cell_type": "code",
   "execution_count": null,
   "id": "876a357f",
   "metadata": {},
   "outputs": [],
   "source": [
    "lgb_clf = lgb.LGBMClassifier(n_estimators = 500,objective='multiclass',seed= 42)\n",
    "lgb_clf.fit(X_train.to_pandas().astype(np.float32), y_train['class'].to_pandas().astype(np.int32))\n",
    "\n",
    "lgb_pred = lgb_clf.predict(X_test.to_pandas().astype(np.float32))\n",
    "\n",
    "metric_scores(clf_test,lgb_pred)"
   ]
  },
  {
   "cell_type": "markdown",
   "id": "13e517aa",
   "metadata": {},
   "source": [
    "# XGBoost"
   ]
  },
  {
   "cell_type": "code",
   "execution_count": null,
   "id": "4f180190",
   "metadata": {},
   "outputs": [],
   "source": [
    "xgb_clf = xgb.XGBClassifier(n_estimators=500,n_jobs=-1, max_depth=14,\n",
    "use_label_encoder=False,objective = 'multi:softprob',\n",
    " eval_metric = 'mlogloss',tree_method='gpu_hist', \n",
    " predictor='gpu_predictor', random_state=24)\n",
    "\n",
    "xgb_clf.fit(X_train.to_pandas().astype(np.float32), y_train['class'].to_pandas().astype(np.int32))\n",
    "\n",
    "xgb_pred = xgb_clf.predict(X_test.to_pandas().astype(np.float32))\n",
    "\n",
    "metric_scores(clf_test,xgb_pred)"
   ]
  },
  {
   "cell_type": "markdown",
   "id": "03564e58",
   "metadata": {},
   "source": [
    "# CatBoost"
   ]
  },
  {
   "cell_type": "code",
   "execution_count": null,
   "id": "61edf644",
   "metadata": {},
   "outputs": [],
   "source": [
    "train_pool = Pool(X_train.to_pandas(), y_train.to_pandas(), feature_names=features)\n",
    "test_pool = Pool(X_test.to_pandas(), y_test.to_pandas(), feature_names=features)"
   ]
  },
  {
   "cell_type": "code",
   "execution_count": null,
   "id": "a0b77ba0",
   "metadata": {},
   "outputs": [],
   "source": [
    "cb_clf = CatBoostClassifier(n_estimators = 500,max_depth=10,task_type=\"GPU\", random_state= 42, verbose=0)\n",
    "cb_clf.fit(train_pool)\n",
    "\n",
    "cb_pred = cb_clf.predict(X_test.to_pandas().astype(np.float32))\n",
    "\n",
    "metric_scores(clf_test,cb_pred)"
   ]
  },
  {
   "cell_type": "code",
   "execution_count": null,
   "id": "4f714a43",
   "metadata": {},
   "outputs": [],
   "source": [
    "plot_feature_importance(cb_clf.get_feature_importance(),features,'CatBoost')"
   ]
  },
  {
   "cell_type": "code",
   "execution_count": null,
   "id": "3668cb61",
   "metadata": {},
   "outputs": [],
   "source": [
    "cb_clf = CatBoostClassifier(n_estimators = 500,task_type=\"GPU\", random_state= 42, verbose=0)\n",
    "\n",
    "# Feature Selection\n",
    "summary = cb_clf.select_features(\n",
    "    train_pool,\n",
    "    eval_set=test_pool,\n",
    "    features_for_select='0-47',\n",
    "    num_features_to_select=20,\n",
    "    steps=28,\n",
    "    algorithm=EFeaturesSelectionAlgorithm.RecursiveByShapValues,\n",
    "    shap_calc_type=EShapCalcType.Regular,\n",
    "    train_final_model=False,\n",
    "    logging_level='Silent',\n",
    "    plot=True\n",
    ")"
   ]
  }
 ],
 "metadata": {
  "kernelspec": {
   "display_name": "Python 3",
   "language": "python",
   "name": "python3"
  },
  "language_info": {
   "codemirror_mode": {
    "name": "ipython",
    "version": 3
   },
   "file_extension": ".py",
   "mimetype": "text/x-python",
   "name": "python",
   "nbconvert_exporter": "python",
   "pygments_lexer": "ipython3",
   "version": "3.7.10"
  }
 },
 "nbformat": 4,
 "nbformat_minor": 5
}
